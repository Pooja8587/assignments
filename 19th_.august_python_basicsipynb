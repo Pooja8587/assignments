{
 "cells": [
  {
   "cell_type": "code",
   "execution_count": 1,
   "id": "be302197-e807-44aa-a1c1-5ac80d6e77a6",
   "metadata": {},
   "outputs": [],
   "source": [
    "x=10"
   ]
  },
  {
   "cell_type": "code",
   "execution_count": 2,
   "id": "081067f6-9242-4f09-8e2f-1777597f1726",
   "metadata": {},
   "outputs": [],
   "source": [
    "y=5"
   ]
  },
  {
   "cell_type": "code",
   "execution_count": 3,
   "id": "bfa61963-5398-404e-8b13-06b66e29eac1",
   "metadata": {},
   "outputs": [],
   "source": [
    "x=x+y"
   ]
  },
  {
   "cell_type": "code",
   "execution_count": 4,
   "id": "349c99fd-675e-4c93-8e64-12dce16dfe4b",
   "metadata": {},
   "outputs": [
    {
     "data": {
      "text/plain": [
       "15"
      ]
     },
     "execution_count": 4,
     "metadata": {},
     "output_type": "execute_result"
    }
   ],
   "source": [
    "x"
   ]
  },
  {
   "cell_type": "code",
   "execution_count": 5,
   "id": "fec724f3-f24e-4f19-8cd8-a91af96d74b9",
   "metadata": {},
   "outputs": [],
   "source": [
    "y=x-y"
   ]
  },
  {
   "cell_type": "code",
   "execution_count": 6,
   "id": "030dc03f-59eb-42d2-a9db-0f86091d080e",
   "metadata": {
    "tags": []
   },
   "outputs": [
    {
     "data": {
      "text/plain": [
       "10"
      ]
     },
     "execution_count": 6,
     "metadata": {},
     "output_type": "execute_result"
    }
   ],
   "source": [
    "y"
   ]
  },
  {
   "cell_type": "code",
   "execution_count": 7,
   "id": "a9c080fd-4d29-4286-827c-d841bda92b3e",
   "metadata": {},
   "outputs": [],
   "source": [
    "x=x-y"
   ]
  },
  {
   "cell_type": "code",
   "execution_count": 8,
   "id": "6dc52735-08a5-446d-b199-aa1d7e681731",
   "metadata": {},
   "outputs": [
    {
     "data": {
      "text/plain": [
       "5"
      ]
     },
     "execution_count": 8,
     "metadata": {},
     "output_type": "execute_result"
    }
   ],
   "source": [
    "x"
   ]
  },
  {
   "cell_type": "code",
   "execution_count": 9,
   "id": "1f9743b5-47d0-49d4-ad5c-5257583de136",
   "metadata": {},
   "outputs": [
    {
     "data": {
      "text/plain": [
       "10"
      ]
     },
     "execution_count": 9,
     "metadata": {},
     "output_type": "execute_result"
    }
   ],
   "source": [
    "y"
   ]
  },
  {
   "cell_type": "code",
   "execution_count": 27,
   "id": "2f612d84-7d4c-4f7d-ab23-9913b6928b0d",
   "metadata": {},
   "outputs": [],
   "source": [
    "#cell 1 up 9 this is first prblm on basic python variable"
   ]
  },
  {
   "cell_type": "code",
   "execution_count": 28,
   "id": "0e64f5fd-59a0-4603-9fe4-c79ee023f3ca",
   "metadata": {},
   "outputs": [],
   "source": [
    "lenght=100"
   ]
  },
  {
   "cell_type": "code",
   "execution_count": 29,
   "id": "daf7909f-7208-4470-b4ea-f713925e5688",
   "metadata": {},
   "outputs": [],
   "source": [
    "widht=50"
   ]
  },
  {
   "cell_type": "code",
   "execution_count": 30,
   "id": "98589ed7-760c-469b-bca4-bc38574c79e3",
   "metadata": {},
   "outputs": [],
   "source": [
    "area=lenght*widht"
   ]
  },
  {
   "cell_type": "code",
   "execution_count": 31,
   "id": "38b47127-f814-4fa2-b47f-e3016f8d977a",
   "metadata": {},
   "outputs": [
    {
     "data": {
      "text/plain": [
       "5000"
      ]
     },
     "execution_count": 31,
     "metadata": {},
     "output_type": "execute_result"
    }
   ],
   "source": [
    "area"
   ]
  },
  {
   "cell_type": "code",
   "execution_count": 32,
   "id": "5c957e3b-bb26-41ce-8b08-19037a82dad8",
   "metadata": {},
   "outputs": [
    {
     "name": "stdout",
     "output_type": "stream",
     "text": [
      "5000\n"
     ]
    }
   ],
   "source": [
    "print(area)"
   ]
  },
  {
   "cell_type": "code",
   "execution_count": 3,
   "id": "c4da24b8-cf96-44af-ad96-15663b4c350b",
   "metadata": {},
   "outputs": [],
   "source": [
    "# The area of a rectangle."
   ]
  },
  {
   "cell_type": "code",
   "execution_count": 13,
   "id": "569c22bd-f50d-4ffb-b34c-97eec748a740",
   "metadata": {},
   "outputs": [],
   "source": [
    "celsius = 0"
   ]
  },
  {
   "cell_type": "code",
   "execution_count": 14,
   "id": "b3564892-a619-4233-99ad-479cdc639848",
   "metadata": {},
   "outputs": [],
   "source": [
    "fahrenheit = (celsius * 1.8) + 32"
   ]
  },
  {
   "cell_type": "code",
   "execution_count": 15,
   "id": "b41117d9-8b9f-42a4-aa29-914560fed530",
   "metadata": {},
   "outputs": [
    {
     "data": {
      "text/plain": [
       "32.0"
      ]
     },
     "execution_count": 15,
     "metadata": {},
     "output_type": "execute_result"
    }
   ],
   "source": [
    "fahrenheit"
   ]
  },
  {
   "cell_type": "code",
   "execution_count": 12,
   "id": "49748633-0420-4375-aeed-c4281991b9c2",
   "metadata": {},
   "outputs": [],
   "source": [
    "# converting temperatures celsius to fahrenheit"
   ]
  },
  {
   "cell_type": "raw",
   "id": "dd3998af-8a97-4875-bf7b-f414b6d89411",
   "metadata": {},
   "source": [
    "Topic : string basic question"
   ]
  },
  {
   "cell_type": "code",
   "execution_count": 33,
   "id": "d610ddc6-e289-4026-ada0-e8814db80df7",
   "metadata": {},
   "outputs": [],
   "source": [
    "a = \"My name is pooja\""
   ]
  },
  {
   "cell_type": "code",
   "execution_count": 34,
   "id": "375f531a-e2b5-43b2-a808-5fe911a1379c",
   "metadata": {},
   "outputs": [
    {
     "data": {
      "text/plain": [
       "str"
      ]
     },
     "execution_count": 34,
     "metadata": {},
     "output_type": "execute_result"
    }
   ],
   "source": [
    "type(a)"
   ]
  },
  {
   "cell_type": "code",
   "execution_count": 35,
   "id": "67909916-776b-47ea-98ed-c3f7538ff611",
   "metadata": {},
   "outputs": [
    {
     "data": {
      "text/plain": [
       "16"
      ]
     },
     "execution_count": 35,
     "metadata": {},
     "output_type": "execute_result"
    }
   ],
   "source": [
    "len(a)"
   ]
  },
  {
   "cell_type": "code",
   "execution_count": 3,
   "id": "6b548992-7832-483d-80ce-afce7fa6c936",
   "metadata": {},
   "outputs": [],
   "source": [
    "# the lenght of string."
   ]
  },
  {
   "cell_type": "code",
   "execution_count": 15,
   "id": "7264a8c7-002d-4274-842b-331d838591cd",
   "metadata": {},
   "outputs": [],
   "source": [
    " s = \"pwskills\""
   ]
  },
  {
   "cell_type": "code",
   "execution_count": 17,
   "id": "3a0e3ecc-d0d4-45b2-9198-b2a384368f9f",
   "metadata": {},
   "outputs": [
    {
     "data": {
      "text/plain": [
       "'pwskill'"
      ]
     },
     "execution_count": 17,
     "metadata": {},
     "output_type": "execute_result"
    }
   ],
   "source": [
    "s[:-1]"
   ]
  },
  {
   "cell_type": "code",
   "execution_count": 1,
   "id": "721b597d-2f81-498e-b686-2274aba414f0",
   "metadata": {},
   "outputs": [
    {
     "data": {
      "text/plain": [
       "'count the number of vowels(a,e,i,o,u) in the string'"
      ]
     },
     "execution_count": 1,
     "metadata": {},
     "output_type": "execute_result"
    }
   ],
   "source": [
    "'''count the number of vowels(a,e,i,o,u) in the string'''\n"
   ]
  },
  {
   "cell_type": "code",
   "execution_count": 2,
   "id": "20e73f24-63ad-4d89-8634-5e3dda8b0f81",
   "metadata": {},
   "outputs": [],
   "source": [
    "a = \" I am learing data science coures form PWskills\""
   ]
  },
  {
   "cell_type": "code",
   "execution_count": 3,
   "id": "2bf5fda6-c4be-4c83-817f-32bb064b0080",
   "metadata": {},
   "outputs": [
    {
     "data": {
      "text/plain": [
       "str"
      ]
     },
     "execution_count": 3,
     "metadata": {},
     "output_type": "execute_result"
    }
   ],
   "source": [
    "type(a)"
   ]
  },
  {
   "cell_type": "code",
   "execution_count": 8,
   "id": "2076c77d-7a13-4284-8c96-044ba84ab95e",
   "metadata": {},
   "outputs": [
    {
     "data": {
      "text/plain": [
       "4"
      ]
     },
     "execution_count": 8,
     "metadata": {},
     "output_type": "execute_result"
    }
   ],
   "source": [
    "a.count('a')"
   ]
  },
  {
   "cell_type": "code",
   "execution_count": 9,
   "id": "13df1330-ddaf-4335-878c-25c7c0bf3dc5",
   "metadata": {},
   "outputs": [
    {
     "data": {
      "text/plain": [
       "4"
      ]
     },
     "execution_count": 9,
     "metadata": {},
     "output_type": "execute_result"
    }
   ],
   "source": [
    "a.count('e')"
   ]
  },
  {
   "cell_type": "code",
   "execution_count": 10,
   "id": "685f1c25-078e-4a5c-aa41-fb4d117953eb",
   "metadata": {},
   "outputs": [
    {
     "data": {
      "text/plain": [
       "3"
      ]
     },
     "execution_count": 10,
     "metadata": {},
     "output_type": "execute_result"
    }
   ],
   "source": [
    "a.count('i')"
   ]
  },
  {
   "cell_type": "code",
   "execution_count": 11,
   "id": "12ee34d0-75ce-44e3-a098-9a86b509cfaa",
   "metadata": {},
   "outputs": [
    {
     "data": {
      "text/plain": [
       "2"
      ]
     },
     "execution_count": 11,
     "metadata": {},
     "output_type": "execute_result"
    }
   ],
   "source": [
    "a.count('o')"
   ]
  },
  {
   "cell_type": "code",
   "execution_count": 12,
   "id": "78b21f94-9de7-4ddf-9fca-7ee6900dc42a",
   "metadata": {},
   "outputs": [
    {
     "data": {
      "text/plain": [
       "1"
      ]
     },
     "execution_count": 12,
     "metadata": {},
     "output_type": "execute_result"
    }
   ],
   "source": [
    "a.count('u')"
   ]
  },
  {
   "cell_type": "code",
   "execution_count": 13,
   "id": "3e2c9793-6cb2-4c2c-9ede-097a2a2a1cb3",
   "metadata": {},
   "outputs": [
    {
     "data": {
      "text/plain": [
       "' print the reversed  string'"
      ]
     },
     "execution_count": 13,
     "metadata": {},
     "output_type": "execute_result"
    }
   ],
   "source": [
    "''' print the reversed  string'''"
   ]
  },
  {
   "cell_type": "code",
   "execution_count": 14,
   "id": "cb132038-ac25-4fb6-9097-11f9611e47be",
   "metadata": {},
   "outputs": [],
   "source": [
    "b = \"Rajgole\""
   ]
  },
  {
   "cell_type": "code",
   "execution_count": 15,
   "id": "9954fb53-581a-4cec-8094-f2f7cdf55c0b",
   "metadata": {},
   "outputs": [
    {
     "data": {
      "text/plain": [
       "str"
      ]
     },
     "execution_count": 15,
     "metadata": {},
     "output_type": "execute_result"
    }
   ],
   "source": [
    "type(b)"
   ]
  },
  {
   "cell_type": "code",
   "execution_count": 16,
   "id": "710ccc09-204c-4c61-9530-c0634b9a0da8",
   "metadata": {},
   "outputs": [
    {
     "data": {
      "text/plain": [
       "'elogjaR'"
      ]
     },
     "execution_count": 16,
     "metadata": {},
     "output_type": "execute_result"
    }
   ],
   "source": [
    "b[::-1]"
   ]
  },
  {
   "cell_type": "code",
   "execution_count": 17,
   "id": "7dcd4a8c-2ff7-4dbd-a7da-aba204ca2d0c",
   "metadata": {},
   "outputs": [],
   "source": [
    "# palingrom"
   ]
  },
  {
   "cell_type": "code",
   "execution_count": 37,
   "id": "a87b5f3a-4ef4-43fe-99b5-28b1f2759c3e",
   "metadata": {},
   "outputs": [
    {
     "name": "stdin",
     "output_type": "stream",
     "text": [
      "madam: \n"
     ]
    }
   ],
   "source": [
    "c = input (\"madam:\")"
   ]
  },
  {
   "cell_type": "code",
   "execution_count": 38,
   "id": "480d037a-df53-4dc5-8fb6-40d399be099f",
   "metadata": {},
   "outputs": [],
   "source": [
    "reverse = c[::-1]"
   ]
  },
  {
   "cell_type": "code",
   "execution_count": 39,
   "id": "09e18ba4-bda1-4d64-82e9-3407b5355511",
   "metadata": {},
   "outputs": [
    {
     "name": "stdout",
     "output_type": "stream",
     "text": [
      "yes it is palindrome\n"
     ]
    }
   ],
   "source": [
    "if (c==reverse):\n",
    "    print (\"yes it is palindrome\")\n",
    "else:\n",
    "    print(\"no it is no palindrome\")"
   ]
  },
  {
   "cell_type": "code",
   "execution_count": 40,
   "id": "b9e82e3f-7e5f-4356-b1c4-980e672d1cec",
   "metadata": {},
   "outputs": [],
   "source": [
    "# print the string without spaces"
   ]
  },
  {
   "cell_type": "code",
   "execution_count": 52,
   "id": "ae00531f-18b6-4f30-9cb1-8957a2920053",
   "metadata": {},
   "outputs": [],
   "source": [
    "x= \"   Pooja Rajgole   \""
   ]
  },
  {
   "cell_type": "code",
   "execution_count": 53,
   "id": "0536f10d-2c5c-4821-81d6-e400146545ff",
   "metadata": {},
   "outputs": [
    {
     "data": {
      "text/plain": [
       "'Pooja Rajgole   '"
      ]
     },
     "execution_count": 53,
     "metadata": {},
     "output_type": "execute_result"
    }
   ],
   "source": [
    "x.lstrip()"
   ]
  },
  {
   "cell_type": "code",
   "execution_count": 54,
   "id": "c2553171-1e35-47f9-9eb2-7a56d22a7c3f",
   "metadata": {},
   "outputs": [
    {
     "data": {
      "text/plain": [
       "'   Pooja Rajgole'"
      ]
     },
     "execution_count": 54,
     "metadata": {},
     "output_type": "execute_result"
    }
   ],
   "source": [
    "x.rstrip()"
   ]
  },
  {
   "cell_type": "code",
   "execution_count": 57,
   "id": "8e3da221-60af-4566-8765-7b876b20dc78",
   "metadata": {},
   "outputs": [
    {
     "data": {
      "text/plain": [
       "'Pooja Rajgole'"
      ]
     },
     "execution_count": 57,
     "metadata": {},
     "output_type": "execute_result"
    }
   ],
   "source": [
    "x.strip()"
   ]
  },
  {
   "cell_type": "code",
   "execution_count": null,
   "id": "2ee8e217-3a79-493c-8527-b82363a6685c",
   "metadata": {},
   "outputs": [],
   "source": []
  }
 ],
 "metadata": {
  "kernelspec": {
   "display_name": "Python 3 (ipykernel)",
   "language": "python",
   "name": "python3"
  },
  "language_info": {
   "codemirror_mode": {
    "name": "ipython",
    "version": 3
   },
   "file_extension": ".py",
   "mimetype": "text/x-python",
   "name": "python",
   "nbconvert_exporter": "python",
   "pygments_lexer": "ipython3",
   "version": "3.10.8"
  }
 },
 "nbformat": 4,
 "nbformat_minor": 5
}
